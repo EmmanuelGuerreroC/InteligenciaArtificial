{
  "nbformat": 4,
  "nbformat_minor": 0,
  "metadata": {
    "colab": {
      "name": "IA_Ejercicio1_JesúsEmmanuel_1877436.ipynb",
      "provenance": [],
      "collapsed_sections": [],
      "toc_visible": true,
      "include_colab_link": true
    },
    "kernelspec": {
      "name": "python3",
      "display_name": "Python 3"
    },
    "language_info": {
      "name": "python"
    }
  },
  "cells": [
    {
      "cell_type": "markdown",
      "metadata": {
        "id": "view-in-github",
        "colab_type": "text"
      },
      "source": [
        "<a href=\"https://colab.research.google.com/github/EmmanuelGuerreroC/InteligenciaArtificial/blob/LasActividadesVanAqui/IA_Ejercicio1_Jes%C3%BAsEmmanuel_1877436.ipynb\" target=\"_parent\"><img src=\"https://colab.research.google.com/assets/colab-badge.svg\" alt=\"Open In Colab\"/></a>"
      ]
    },
    {
      "cell_type": "markdown",
      "metadata": {
        "id": "NCLIa_Phqm72"
      },
      "source": [
        "Actividad 2.- Ejercicios Introducción Python\n",
        "\n",
        "```\n",
        "Jesús Emmanuel Guerrero Cortez\n",
        "1877436\n",
        "Inteligencia Artificial, N4 a N6\n",
        "```\n",
        "\n",
        "\n"
      ]
    },
    {
      "cell_type": "code",
      "metadata": {
        "id": "CGTtpS8iqlf7",
        "colab": {
          "base_uri": "https://localhost:8080/"
        },
        "outputId": "932104a1-f123-47f6-af85-fa47506bac70"
      },
      "source": [
        "#No se necesita explicar, simplemente se incluyen las variables.\n",
        "print(\"¿Cuál es su nombre?\")\n",
        "nombre = input()\n",
        "print(\"¿Cuál es su edad\")\n",
        "edad = input()\n",
        "print(\"Ahora, ¿cuál es su frase favorita?\")\n",
        "frasefav = input()\n",
        "print(\"Finalmente, ¿quién dijo esa frase?\")\n",
        "quiendijo = input()\n",
        "print(f\"Entonces {nombre}, usted tiene {edad} años; su frase favorita es '{frasefav}', dicha por {quiendijo}.\")\n"
      ],
      "execution_count": null,
      "outputs": [
        {
          "output_type": "stream",
          "name": "stdout",
          "text": [
            "¿Cuál es su nombre?\n",
            "Juan Emmanuel\n",
            "¿Cuál es su edad\n",
            "23\n",
            "Ahora, ¿cuál es su frase favorita?\n",
            "No hay lugar como\n",
            "Finalmente, ¿quién dijo esa frase?\n",
            "Plato\n",
            "Entonces Juan Emmanuel, usted tiene 23 años; su frase favorita es 'No hay lugar como', dicha por Plato.\n"
          ]
        }
      ]
    },
    {
      "cell_type": "code",
      "metadata": {
        "colab": {
          "base_uri": "https://localhost:8080/"
        },
        "id": "HWtHQMuwuPyN",
        "outputId": "b86c43e7-8db6-4de2-d161-4b254621791e"
      },
      "source": [
        "#Se usó la función map y split para reducir líneas. Fuente: https://www.geeksforgeeks.org/python-program-to-input-a-comma-separated-string/\n",
        "a, b = map(int, input(\"Ingrese dos números enteros\\n\").split(', '))\n",
        "c, d = map(float, input(\"Ingrese dos números flotantes (c/decimales)\\n\").split(', '))\n",
        "print(f\"\\nSUMA  | {a}+{b} es igual a {a+b}, mientras que {c}+{d} da {c+d}\")\n",
        "print(f\"RESTA | {a}-{b} es igual a {a-b}, mientras que {c}-{d} da {c-d}\")\n",
        "print(f\"MULTP | {a}*{b} es igual a {a*b}, mientras que {c}*{d} da {c*d}\")\n",
        "print(f\"DIVIS | {a}/{b} es igual a {a/b}, mientras que {c}/{d} da {c/d}\")"
      ],
      "execution_count": null,
      "outputs": [
        {
          "output_type": "stream",
          "name": "stdout",
          "text": [
            "Ingrese dos números enteros\n",
            "22, 43\n",
            "Ingrese dos números flotantes (c/decimales)\n",
            "23.65, 34.67\n",
            "\n",
            "SUMA  | 22+43 es igual a 65, mientras que 23.65+34.67 da 58.32\n",
            "RESTA | 22-43 es igual a -21, mientras que 23.65-34.67 da -11.020000000000003\n",
            "MULTP | 22*43 es igual a 946, mientras que 23.65*34.67 da 819.9455\n",
            "DIVIS | 22/43 es igual a 0.5116279069767442, mientras que 23.65/34.67 da 0.6821459475050475\n"
          ]
        }
      ]
    },
    {
      "cell_type": "code",
      "metadata": {
        "colab": {
          "base_uri": "https://localhost:8080/"
        },
        "id": "xoB38wI6x5jZ",
        "outputId": "3d3f147b-8a9f-4fa4-8c4d-ba4e1819992d"
      },
      "source": [
        "#Se compararon los valores enteros ingresados con dos previamente definidos. Se usó lógica de Mate discretas. \n",
        "x, y = map(int, input(\"Ingrese dos números: \\n\").split(', '))\n",
        "print(f\"¿Es cierto que tanto {x}>18 y {y}<29? {x>18 and y<29}\")\n",
        "print(f\"¿Es cierto que al menos {x}>18 o {y}<29? {x>18 or y<29}\")\n",
        "print(f\"¿Es incorrecto el que {x}>18? {not x>18}\")\n",
        "print(f\"¿Es cierto que tanto {x} y {y} son pares? {(x%2==0) and (y%2==0)}\")\n",
        "print(f\"¿Es cierto que al menos {x} o {y} es par? {(x%2==0) or (y%2==0)}\")\n",
        "print(f\"¿Es incorrecto el que {x} es par? {not (x%2==0)}\")"
      ],
      "execution_count": null,
      "outputs": [
        {
          "output_type": "stream",
          "name": "stdout",
          "text": [
            "Ingrese dos números: \n",
            "22, 32\n",
            "¿Es cierto que tanto 22>18 y 32<29? False\n",
            "¿Es cierto que al menos 22>18 o 32<29? True\n",
            "¿Es incorrecto el que 22>18? False\n",
            "¿Es cierto que tanto 22 y 32 son pares? True\n",
            "¿Es cierto que al menos 22 o 32 es par? True\n",
            "¿Es incorrecto el que 22 es par? False\n"
          ]
        }
      ]
    }
  ]
}