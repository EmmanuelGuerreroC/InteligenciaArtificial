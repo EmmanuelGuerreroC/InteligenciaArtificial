{
  "nbformat": 4,
  "nbformat_minor": 0,
  "metadata": {
    "colab": {
      "name": "IA_Ejercicio2_JesúsEmmanuel_1877436.ipynb",
      "provenance": [],
      "collapsed_sections": [],
      "authorship_tag": "ABX9TyM94KAWlFo+64wXnNAg6DD4",
      "include_colab_link": true
    },
    "kernelspec": {
      "name": "python3",
      "display_name": "Python 3"
    },
    "language_info": {
      "name": "python"
    }
  },
  "cells": [
    {
      "cell_type": "markdown",
      "metadata": {
        "id": "view-in-github",
        "colab_type": "text"
      },
      "source": [
        "<a href=\"https://colab.research.google.com/github/EmmanuelGuerreroC/InteligenciaArtificial/blob/LasActividadesVanAqui/IA_Ejercicio2_Jes%C3%BAsEmmanuel_1877436.ipynb\" target=\"_parent\"><img src=\"https://colab.research.google.com/assets/colab-badge.svg\" alt=\"Open In Colab\"/></a>"
      ]
    },
    {
      "cell_type": "markdown",
      "metadata": {
        "id": "5lx4vi5Y9s6p"
      },
      "source": [
        "Actividad 3.- Ejercicios Introducción Python, 2da Parte\n",
        "\n",
        "```\n",
        "Jesús Emmanuel Guerrero Cortez\n",
        "1877436\n",
        "Inteligencia Artificial, N4 a N6\n",
        "```"
      ]
    },
    {
      "cell_type": "code",
      "metadata": {
        "id": "JsW6zbTA9xGj",
        "colab": {
          "base_uri": "https://localhost:8080/"
        },
        "outputId": "67b64c87-3dba-433c-efcc-63dd22529dc2"
      },
      "source": [
        "#Ejercicio 1: Preguntar por comidas, imprimirlas y mezclarlas con oraciones\n",
        "alimentos = input(\"Introduzca 7 comidas diferentes que le gusten, separadas por una coma y espacio: \").split(', ', 6) #Se almacenan los valores introducidos, separados por coma y espacio, con hasta 7 elementos (solo se considerarán seis separaciones)\n",
        "print(f\"Sin formato: {alimentos}\") #Se imprime lista simple\n",
        "for i in range(0, 7):\n",
        "  print(f\"El alimento número {i+1} es: {alimentos[i]}\")"
      ],
      "execution_count": null,
      "outputs": [
        {
          "output_type": "stream",
          "name": "stdout",
          "text": [
            "Introduzca 7 comidas diferentes que le gusten, separadas por una coma y espacio: sandía, papas fritas, melón, guayaba, malteada, plátano, limón\n",
            "Sin formato: ['sandía', 'papas fritas', 'melón', 'guayaba', 'malteada', 'plátano', 'limón']\n",
            "El alimento número 1 es: sandía\n",
            "El alimento número 2 es: papas fritas\n",
            "El alimento número 3 es: melón\n",
            "El alimento número 4 es: guayaba\n",
            "El alimento número 5 es: malteada\n",
            "El alimento número 6 es: plátano\n",
            "El alimento número 7 es: limón\n"
          ]
        }
      ]
    },
    {
      "cell_type": "code",
      "metadata": {
        "colab": {
          "base_uri": "https://localhost:8080/"
        },
        "id": "BC3hZ7G2Wdul",
        "outputId": "fe9df670-a445-4cd8-aa6d-8f6745920002"
      },
      "source": [
        "alimentos = input(\"Introduzca 7 comidas diferentes que le gusten, separadas por una coma y espacio: \").split(', ', 6)\n",
        "oraciones = (\"Mi comida favorita es \", \"El alimento preferido de mi papá es \", \"Juan ama comer \", \"Emilia quiere almorzar\", \"A mis tíos les fascina merendar \", \"Yo siempre desayuno \", \"Usualmente, en nuestra casa se consume \")\n",
        "for i in range(7):\n",
        "  print(f\"{oraciones[i]}{alimentos[i]}\") #Para que no marcara doble espacio entre ambas posiciones de las listas, se evitó (oraciones, alimentos)"
      ],
      "execution_count": null,
      "outputs": [
        {
          "output_type": "stream",
          "name": "stdout",
          "text": [
            "Introduzca 7 comidas diferentes que le gusten, separadas por una coma y espacio: sandía, papas fritas, melón, guayaba, malteada, plátano, limón\n",
            "Mi comida favorita es sandía\n",
            "El alimento preferido de mi papá es papas fritas\n",
            "Juan ama comer melón\n",
            "Emilia quiere almorzarguayaba\n",
            "A mis tíos les fascina merendar malteada\n",
            "Yo siempre desayuno plátano\n",
            "Usualmente, en nuestra casa se consume limón\n"
          ]
        }
      ]
    },
    {
      "cell_type": "code",
      "metadata": {
        "colab": {
          "base_uri": "https://localhost:8080/"
        },
        "id": "2fH6TJIvH5Uf",
        "outputId": "c65410c5-8d20-4894-cf67-b0f659e0e6b5"
      },
      "source": [
        "print(\"Escriba únicamente PIEDRA, PAPEL, TIJERA, en MAYÚSCULAS\")\n",
        "jugador1 = input(\"Resultado del jugador 1: \")\n",
        "jugador2 = input(\"¿Qué usó el jugador 2?: \")\n",
        "if jugador1 == jugador2: #Si se empata\n",
        "  print(f\"Ambos colocaron {jugador1}, por lo tanto EMPATE\")\n",
        "elif (jugador1==\"PAPEL\" and jugador2==\"PIEDRA\") or (jugador1==\"TIJERA\" and jugador2==\"PAPEL\") or (jugador1==\"PIEDRA\" and jugador2==\"TIJERA\"): #Si el jugador 1 gana\n",
        "  print(f\"Gana el jugador 1, pues {jugador1} vence a {jugador2}.\")\n",
        "else: #Todos los demas casos corresponden al jugador 2 (3 opciones restantes, para 3*3 = 9)\n",
        "  print(f\"Gana el jugador 2, pues {jugador2} vence a {jugador1}.\")"
      ],
      "execution_count": null,
      "outputs": [
        {
          "output_type": "stream",
          "name": "stdout",
          "text": [
            "Escriba únicamente PIEDRA, PAPEL, TIJERA, en MAYÚSCULAS\n",
            "Resultado del jugador 1: PAPEL\n",
            "¿Qué usó el jugador 2?: PAPEL\n",
            "Ambos colocaron PAPEL, por lo tanto EMPATE\n"
          ]
        }
      ]
    },
    {
      "cell_type": "code",
      "metadata": {
        "colab": {
          "base_uri": "https://localhost:8080/"
        },
        "id": "sOhHsQT5Knhd",
        "outputId": "79bb55c2-f58f-4321-87a1-b014f4607c70"
      },
      "source": [
        "lista = [1,2,3,4,5,6]\n",
        "i = 6 #Comenzamos con todos los elementos\n",
        "while i > 0: #A medida que progrese en este while, se ira restando el rango de la lista\n",
        "  for x in range(i):\n",
        "    print(lista[x],end=\"\")\n",
        "  print(\"\\n\")\n",
        "  i -= 1\n",
        "  if (i == 1):\n",
        "    while i < 7: #A medida que progrese en este while, se ira incrementando el rango de la lista\n",
        "      for x in range(i):\n",
        "        print(lista[x],end=\"\")\n",
        "      print(\"\\n\")\n",
        "      i += 1\n",
        "    i = -1 #Para que no se repita el while exterior, limitamos la secuencia\n",
        "\n",
        "\n",
        "\n"
      ],
      "execution_count": null,
      "outputs": [
        {
          "output_type": "stream",
          "name": "stdout",
          "text": [
            "123456\n",
            "\n",
            "12345\n",
            "\n",
            "1234\n",
            "\n",
            "123\n",
            "\n",
            "12\n",
            "\n",
            "1\n",
            "\n",
            "12\n",
            "\n",
            "123\n",
            "\n",
            "1234\n",
            "\n",
            "12345\n",
            "\n",
            "123456\n",
            "\n"
          ]
        }
      ]
    }
  ]
}