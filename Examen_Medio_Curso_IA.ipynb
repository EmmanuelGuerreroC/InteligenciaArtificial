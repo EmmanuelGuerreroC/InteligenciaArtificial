{
  "nbformat": 4,
  "nbformat_minor": 0,
  "metadata": {
    "colab": {
      "name": "Examen-Medio-Curso-IA.ipynb",
      "provenance": [],
      "authorship_tag": "ABX9TyOxeI/dWF0AvCiASQtctvTO",
      "include_colab_link": true
    },
    "kernelspec": {
      "name": "python3",
      "display_name": "Python 3"
    },
    "language_info": {
      "name": "python"
    }
  },
  "cells": [
    {
      "cell_type": "markdown",
      "metadata": {
        "id": "view-in-github",
        "colab_type": "text"
      },
      "source": [
        "<a href=\"https://colab.research.google.com/github/EmmanuelGuerreroC/InteligenciaArtificial/blob/Main/Examen_Medio_Curso_IA.ipynb\" target=\"_parent\"><img src=\"https://colab.research.google.com/assets/colab-badge.svg\" alt=\"Open In Colab\"/></a>"
      ]
    },
    {
      "cell_type": "code",
      "metadata": {
        "colab": {
          "base_uri": "https://localhost:8080/"
        },
        "id": "k0GRL2j48yM9",
        "outputId": "f9a6b275-8f3d-40b8-ed19-5f842a92ec00"
      },
      "source": [
        "azar = int(input(\"Introduzca cualquier número que desee: \"))\n",
        "salida = 0\n",
        "for i in range(1, azar+1):\n",
        "  salida = salida + i\n",
        "print(f\"La suma de los valores desde 1 hasta {azar} es {salida}\")"
      ],
      "execution_count": 41,
      "outputs": [
        {
          "output_type": "stream",
          "name": "stdout",
          "text": [
            "Introduzca cualquier número que desee: 4\n",
            "La suma de los valores desde 1 hasta 4 es 10\n"
          ]
        }
      ]
    },
    {
      "cell_type": "code",
      "metadata": {
        "colab": {
          "base_uri": "https://localhost:8080/"
        },
        "id": "lbg4s2EW-UEz",
        "outputId": "e74d2cf5-2614-4774-c73a-5f8812c65ae3"
      },
      "source": [
        "azar1 = int(input(\"Introduzca límite inferior de rango \"))\n",
        "azar2 = int(input(\"Introduzca límite superior de rango: \"))\n",
        "lista = list (range(azar1, azar2+1))\n",
        "print(f\"Los valores pares de la lista que inicia en {azar1} y termina en {azar2} son: \")\n",
        "for i in lista:\n",
        "  if i%2==0:\n",
        "    print(i,end=\" \")"
      ],
      "execution_count": 45,
      "outputs": [
        {
          "output_type": "stream",
          "name": "stdout",
          "text": [
            "Introduzca límite inferior de rango 6\n",
            "Introduzca límite superior de rango: 31\n",
            "Los valores pares de la lista que inicia en 6 y termina en 31 son: \n",
            "6 8 10 12 14 16 18 20 22 24 26 28 30 "
          ]
        }
      ]
    }
  ]
}